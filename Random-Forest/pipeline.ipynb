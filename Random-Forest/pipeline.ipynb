{
 "cells": [
  {
   "cell_type": "code",
   "execution_count": null,
   "id": "6383ec19-363c-4137-b15d-61836b28580b",
   "metadata": {},
   "outputs": [],
   "source": [
    "pip install -U sagemaker"
   ]
  },
  {
   "cell_type": "code",
   "execution_count": 1,
   "id": "304ce552-4291-4d65-808b-fdcd14aa2f8e",
   "metadata": {},
   "outputs": [
    {
     "name": "stdout",
     "output_type": "stream",
     "text": [
      "sagemaker.config INFO - Not applying SDK defaults from location: /etc/xdg/sagemaker/config.yaml\n",
      "sagemaker.config INFO - Not applying SDK defaults from location: /home/sagemaker-user/.config/sagemaker/config.yaml\n"
     ]
    }
   ],
   "source": [
    "import sagemaker\n",
    "from sagemaker.workflow.steps import ProcessingStep, TrainingStep, CreateModelStep\n",
    "from sagemaker.workflow.pipeline import Pipeline\n",
    "from sagemaker.workflow.parameters import ParameterString, ParameterInteger\n",
    "from sagemaker.workflow.execution_variables import ExecutionVariables\n",
    "from sagemaker.processing import Processor\n",
    "from sagemaker.sklearn.processing import SKLearnProcessor\n",
    "from sagemaker.inputs import TrainingInput\n",
    "from sagemaker.model import Model\n",
    "from sagemaker.workflow.model_step import ModelStep\n",
    "from sagemaker.workflow.step_collections import RegisterModel\n",
    "from sagemaker.sklearn.estimator import SKLearn\n",
    "from time import gmtime, strftime\n",
    "import boto3\n",
    "from sagemaker import Session\n",
    "\n",
    "from sagemaker.workflow.pipeline_context import PipelineSession\n",
    "# from sagemaker.workflow.steps import CreateEndpointConfigStep, CreateEndpointStep"
   ]
  },
  {
   "cell_type": "code",
   "execution_count": 2,
   "id": "a7b1b41f-7ea1-45dc-8bf2-266027808bcd",
   "metadata": {},
   "outputs": [
    {
     "name": "stdout",
     "output_type": "stream",
     "text": [
      "arn:aws:iam::767397996001:role/service-role/AmazonSageMaker-ExecutionRole-20250120T122462\n"
     ]
    }
   ],
   "source": [
    "# Parameters for the pipeline\n",
    "pipeline_name = \"SklearnPipeline\"\n",
    "instance_type = ParameterString(name=\"InstanceType\", default_value=\"ml.t3.medium\")\n",
    "model_name = ParameterString(name=\"ModelName\", default_value=\"model\")\n",
    "instance_count = ParameterInteger(name=\"InstanceCount\", default_value=1)\n",
    "role = sagemaker.get_execution_role()\n",
    "print(role)\n"
   ]
  },
  {
   "cell_type": "code",
   "execution_count": 3,
   "id": "614b078d-6148-45c4-96fb-40abeb703da7",
   "metadata": {},
   "outputs": [
    {
     "name": "stdout",
     "output_type": "stream",
     "text": [
      "Done\n"
     ]
    }
   ],
   "source": [
    "pipeline_session = PipelineSession()\n",
    "\n",
    "s3 = boto3.client('s3')\n",
    "bucket_name = 'ml-ops-zenon'  # Your S3 bucket\n",
    "script_path = 'train.py'  # Path to the script locally\n",
    "s3_key = 'scripts/train.py'  # Destination in S3\n",
    "\n",
    "s3.upload_file(script_path, bucket_name, s3_key)\n",
    "print(\"Done\")"
   ]
  },
  {
   "cell_type": "code",
   "execution_count": 4,
   "id": "7c01594d-ab03-40b0-9c84-9181393e25e9",
   "metadata": {},
   "outputs": [],
   "source": [
    "# Define the estimator\n",
    "sklearn_estimator = SKLearn(\n",
    "    entry_point='train.py',\n",
    "    role=role,  # SageMaker execution role\n",
    "    instance_type='ml.t3.medium',  # You can customize the instance type\n",
    "    instance_count=1,\n",
    "    framework_version='1.2-1',  # Specify the version of scikit-learn you want\n",
    "    py_version='py3',\n",
    "    output_path=f's3://{bucket_name}/output',\n",
    "    source_dir=f's3://{bucket_name}/scripts/',  # Path to your train.py script\n",
    ")\n"
   ]
  },
  {
   "cell_type": "code",
   "execution_count": 5,
   "id": "7decb981-b242-42e2-8202-763e57257dd6",
   "metadata": {},
   "outputs": [],
   "source": [
    "# Define the Training step in the pipeline\n",
    "training_step = TrainingStep(\n",
    "    name=\"TrainingStep\",\n",
    "    estimator=sklearn_estimator,\n",
    "    inputs={\n",
    "        \"train\": TrainingInput(\n",
    "            s3_data=f's3://{bucket_name}/Input/diabetes-dev-1.csv',  # Your dataset in S3\n",
    "            content_type=\"text/csv\"\n",
    "        )\n",
    "    }\n",
    ")"
   ]
  },
  {
   "cell_type": "code",
   "execution_count": 6,
   "id": "367c1af0-e4e2-4f7c-8adb-b9b498d1ba88",
   "metadata": {},
   "outputs": [
    {
     "name": "stderr",
     "output_type": "stream",
     "text": [
      "/opt/conda/lib/python3.11/site-packages/sagemaker/workflow/pipeline_context.py:332: UserWarning: Running within a PipelineSession, there will be No Wait, No Logs, and No Job being started.\n",
      "  warnings.warn(\n"
     ]
    }
   ],
   "source": [
    "# retrieve sklearn image\n",
    "session = boto3.Session()  # Initialize boto3 session\n",
    "region = session.region_name \n",
    "\n",
    "image_uri = sagemaker.image_uris.retrieve(\n",
    "    framework=\"sklearn\",\n",
    "    region=region,\n",
    "    version=\"1.2-1\",\n",
    "    py_version=\"py3\",\n",
    "    instance_type=\"ml.t3.medium\",\n",
    ")\n",
    "\n",
    "# Define the model artifact output from the training job\n",
    "# model_artifact_uri = f's3://{bucket_name}/output/random_forest_model.tar.gz'\n",
    "model_artifact_uri = training_step.properties.ModelArtifacts.S3ModelArtifacts\n",
    "\n",
    "\n",
    "# Define the model for deployment\n",
    "model = Model(\n",
    "    image_uri=image_uri,  # Scikit-learn container image for inference\n",
    "    model_data=model_artifact_uri,  # Path to the trained model artifact in S3\n",
    "    role=role,  # IAM role for SageMaker\n",
    "    entry_point=\"inference.py\",  # Inference script\n",
    "    source_dir=\"./scripts\",  # Path to the directory with scripts in S3\n",
    "    sagemaker_session=pipeline_session\n",
    ")\n",
    "\n",
    "\n",
    "# create_model_step = ModelStep(\n",
    "#     name=\"CreateModelStep\",\n",
    "#     model=model,\n",
    "#     # inputs={\n",
    "#         # 'SAGEMAKER_PROGRAM': 'inference.py',  # Inference script for the model\n",
    "#         # 'SAGEMAKER_SUBMIT_DIRECTORY': model_artifacts\n",
    "#     # }\n",
    "# )\n",
    "\n",
    "\n",
    "# Define the CreateModelStep properly using the `Model` properties\n",
    "create_model_step = ModelStep(\n",
    "    name=\"CreateModelStep\",\n",
    "    step_args=model.create(\n",
    "        instance_type=\"ml.t3.medium\",  # Set your inference instance type\n",
    "        # You can add other deployment options here\n",
    "    )\n",
    ")\n"
   ]
  },
  {
   "cell_type": "code",
   "execution_count": 7,
   "id": "9dac65f2-a606-48ea-84a9-4b67950d129a",
   "metadata": {},
   "outputs": [],
   "source": [
    "# Register the model to SageMaker Model Registry\n",
    "register_model_step = RegisterModel(\n",
    "    name=\"RegisterModelStep\",\n",
    "    estimator=sklearn_estimator,\n",
    "    content_types=[\"application/json\"],\n",
    "    response_types=[\"application/json\"],\n",
    "    inference_instances=[\"ml.t3.medium\"],\n",
    "    transform_instances=[\"ml.t3.medium\"],\n",
    "    repack_model=False\n",
    ")\n"
   ]
  },
  {
   "cell_type": "code",
   "execution_count": null,
   "id": "6d8b7744-11bc-4721-8dda-592201bea389",
   "metadata": {},
   "outputs": [],
   "source": [
    "# Define the endpoint configuration step\n",
    "# endpoint_config_step = CreateEndpointConfigStep(\n",
    "#     name=\"CreateEndpointConfigStep\",\n",
    "#     endpoint_config_name=f\"{model_name}_EndpointConfig\",  # Endpoint config name\n",
    "#     model_name=create_model_step.properties.ModelName,  # Use the model name from the model step\n",
    "#     instance_type=\"ml.t3.medium\",  # Inference instance type\n",
    "#     initial_instance_count=1\n",
    "# )\n",
    "\n",
    "# sagemaker_client.create_endpoint_config(\n",
    "#     EndpointConfigName=endpoint_config_name,\n",
    "#     ProductionVariants=[\n",
    "#         {\n",
    "#             \"VariantName\": \"AllTraffic\",\n",
    "#             \"ModelName\": create_model_step.properties.ModelName,\n",
    "#             \"InitialInstanceCount\": 1,\n",
    "#             \"InstanceType\": \"ml.t3.medium\",\n",
    "#             \"InitialVariantWeight\": 1.0\n",
    "#         }\n",
    "#     ]\n",
    "# )"
   ]
  },
  {
   "cell_type": "code",
   "execution_count": 8,
   "id": "23e8dd39-6185-4b24-93b2-488212941889",
   "metadata": {},
   "outputs": [],
   "source": [
    "# Generate endpoint name\n",
    "endpoint_name = f\"sklearn-endpoint-{strftime('%Y-%m-%d-%H-%M-%S', gmtime())}\"\n",
    "\n",
    "# endpoint_step = CreateEndpointStep(\n",
    "#     name=\"CreateEndpointStep\",\n",
    "#     endpoint_name=endpoint_name,\n",
    "#     endpoint_config_name=endpoint_config_step.properties.EndpointConfigName  # Use config from previous step\n",
    "# )\n",
    "\n",
    "# Call sagemaker_client.create_endpoint() to create the endpoint\n",
    "# sagemaker_client.create_endpoint(\n",
    "#     EndpointName=endpoint_name,\n",
    "#     EndpointConfigName=endpoint_config_name\n",
    "# )"
   ]
  },
  {
   "cell_type": "code",
   "execution_count": 9,
   "id": "a94fc8a3-c7d7-4aa6-8914-fbfe205a9407",
   "metadata": {},
   "outputs": [],
   "source": [
    "pipeline = Pipeline(\n",
    "    name=\"SklearnPipeline\",\n",
    "    steps=[training_step]\n",
    ")\n"
   ]
  },
  {
   "cell_type": "code",
   "execution_count": 10,
   "id": "5a3eee2a-48eb-4ab6-8d37-8170977bf3d9",
   "metadata": {},
   "outputs": [
    {
     "name": "stderr",
     "output_type": "stream",
     "text": [
      "WARNING:sagemaker.workflow.utilities:Popping out 'TrainingJobName' from the pipeline definition by default since it will be overridden at pipeline execution time. Please utilize the PipelineDefinitionConfig to persist this field in the pipeline definition if desired.\n",
      "Exception ignored in: <bound method IPythonKernel._clean_thread_parent_frames of <ipykernel.ipkernel.IPythonKernel object at 0x7fb767d393d0>>\n",
      "Traceback (most recent call last):\n",
      "  File \"/opt/conda/lib/python3.11/site-packages/ipykernel/ipkernel.py\", line 775, in _clean_thread_parent_frames\n",
      "    def _clean_thread_parent_frames(\n",
      "\n",
      "KeyboardInterrupt: \n"
     ]
    },
    {
     "ename": "KeyboardInterrupt",
     "evalue": "",
     "output_type": "error",
     "traceback": [
      "\u001b[0;31m---------------------------------------------------------------------------\u001b[0m",
      "\u001b[0;31mKeyboardInterrupt\u001b[0m                         Traceback (most recent call last)",
      "Cell \u001b[0;32mIn[10], line 4\u001b[0m\n\u001b[1;32m      2\u001b[0m pipeline\u001b[38;5;241m.\u001b[39mupsert(role_arn\u001b[38;5;241m=\u001b[39mrole)\n\u001b[1;32m      3\u001b[0m execution \u001b[38;5;241m=\u001b[39m pipeline\u001b[38;5;241m.\u001b[39mstart()\n\u001b[0;32m----> 4\u001b[0m \u001b[43mexecution\u001b[49m\u001b[38;5;241;43m.\u001b[39;49m\u001b[43mwait\u001b[49m\u001b[43m(\u001b[49m\u001b[43m)\u001b[49m\n",
      "File \u001b[0;32m/opt/conda/lib/python3.11/site-packages/sagemaker/workflow/pipeline.py:934\u001b[0m, in \u001b[0;36m_PipelineExecution.wait\u001b[0;34m(self, delay, max_attempts)\u001b[0m\n\u001b[1;32m    905\u001b[0m model \u001b[38;5;241m=\u001b[39m botocore\u001b[38;5;241m.\u001b[39mwaiter\u001b[38;5;241m.\u001b[39mWaiterModel(\n\u001b[1;32m    906\u001b[0m     {\n\u001b[1;32m    907\u001b[0m         \u001b[38;5;124m\"\u001b[39m\u001b[38;5;124mversion\u001b[39m\u001b[38;5;124m\"\u001b[39m: \u001b[38;5;241m2\u001b[39m,\n\u001b[0;32m   (...)\u001b[0m\n\u001b[1;32m    929\u001b[0m     }\n\u001b[1;32m    930\u001b[0m )\n\u001b[1;32m    931\u001b[0m waiter \u001b[38;5;241m=\u001b[39m botocore\u001b[38;5;241m.\u001b[39mwaiter\u001b[38;5;241m.\u001b[39mcreate_waiter_with_client(\n\u001b[1;32m    932\u001b[0m     waiter_id, model, \u001b[38;5;28mself\u001b[39m\u001b[38;5;241m.\u001b[39msagemaker_session\u001b[38;5;241m.\u001b[39msagemaker_client\n\u001b[1;32m    933\u001b[0m )\n\u001b[0;32m--> 934\u001b[0m \u001b[43mwaiter\u001b[49m\u001b[38;5;241;43m.\u001b[39;49m\u001b[43mwait\u001b[49m\u001b[43m(\u001b[49m\u001b[43mPipelineExecutionArn\u001b[49m\u001b[38;5;241;43m=\u001b[39;49m\u001b[38;5;28;43mself\u001b[39;49m\u001b[38;5;241;43m.\u001b[39;49m\u001b[43marn\u001b[49m\u001b[43m)\u001b[49m\n",
      "File \u001b[0;32m/opt/conda/lib/python3.11/site-packages/botocore/waiter.py:55\u001b[0m, in \u001b[0;36mcreate_waiter_with_client.<locals>.wait\u001b[0;34m(self, **kwargs)\u001b[0m\n\u001b[1;32m     54\u001b[0m \u001b[38;5;28;01mdef\u001b[39;00m \u001b[38;5;21mwait\u001b[39m(\u001b[38;5;28mself\u001b[39m, \u001b[38;5;241m*\u001b[39m\u001b[38;5;241m*\u001b[39mkwargs):\n\u001b[0;32m---> 55\u001b[0m     \u001b[43mWaiter\u001b[49m\u001b[38;5;241;43m.\u001b[39;49m\u001b[43mwait\u001b[49m\u001b[43m(\u001b[49m\u001b[38;5;28;43mself\u001b[39;49m\u001b[43m,\u001b[49m\u001b[43m \u001b[49m\u001b[38;5;241;43m*\u001b[39;49m\u001b[38;5;241;43m*\u001b[39;49m\u001b[43mkwargs\u001b[49m\u001b[43m)\u001b[49m\n",
      "File \u001b[0;32m/opt/conda/lib/python3.11/site-packages/botocore/waiter.py:392\u001b[0m, in \u001b[0;36mWaiter.wait\u001b[0;34m(self, **kwargs)\u001b[0m\n\u001b[1;32m    383\u001b[0m         reason \u001b[38;5;241m=\u001b[39m (\n\u001b[1;32m    384\u001b[0m             \u001b[38;5;124mf\u001b[39m\u001b[38;5;124m'\u001b[39m\u001b[38;5;124mMax attempts exceeded. Previously accepted state: \u001b[39m\u001b[38;5;124m'\u001b[39m\n\u001b[1;32m    385\u001b[0m             \u001b[38;5;124mf\u001b[39m\u001b[38;5;124m'\u001b[39m\u001b[38;5;132;01m{\u001b[39;00macceptor\u001b[38;5;241m.\u001b[39mexplanation\u001b[38;5;132;01m}\u001b[39;00m\u001b[38;5;124m'\u001b[39m\n\u001b[1;32m    386\u001b[0m         )\n\u001b[1;32m    387\u001b[0m     \u001b[38;5;28;01mraise\u001b[39;00m WaiterError(\n\u001b[1;32m    388\u001b[0m         name\u001b[38;5;241m=\u001b[39m\u001b[38;5;28mself\u001b[39m\u001b[38;5;241m.\u001b[39mname,\n\u001b[1;32m    389\u001b[0m         reason\u001b[38;5;241m=\u001b[39mreason,\n\u001b[1;32m    390\u001b[0m         last_response\u001b[38;5;241m=\u001b[39mresponse,\n\u001b[1;32m    391\u001b[0m     )\n\u001b[0;32m--> 392\u001b[0m \u001b[43mtime\u001b[49m\u001b[38;5;241;43m.\u001b[39;49m\u001b[43msleep\u001b[49m\u001b[43m(\u001b[49m\u001b[43msleep_amount\u001b[49m\u001b[43m)\u001b[49m\n",
      "\u001b[0;31mKeyboardInterrupt\u001b[0m: "
     ]
    }
   ],
   "source": [
    "# Start the pipeline execution\n",
    "pipeline.upsert(role_arn=role)\n",
    "execution = pipeline.start()\n",
    "execution.wait()"
   ]
  },
  {
   "cell_type": "code",
   "execution_count": null,
   "id": "4504ee51-1303-4cef-b258-bbc1fbaae979",
   "metadata": {},
   "outputs": [],
   "source": [
    "status = execution.describe()[\"PipelineExecutionStatus\"]\n",
    "print(f\"Pipeline execution status: {status}\")"
   ]
  }
 ],
 "metadata": {
  "kernelspec": {
   "display_name": "Python 3 (ipykernel)",
   "language": "python",
   "name": "python3"
  },
  "language_info": {
   "codemirror_mode": {
    "name": "ipython",
    "version": 3
   },
   "file_extension": ".py",
   "mimetype": "text/x-python",
   "name": "python",
   "nbconvert_exporter": "python",
   "pygments_lexer": "ipython3",
   "version": "3.11.11"
  }
 },
 "nbformat": 4,
 "nbformat_minor": 5
}
