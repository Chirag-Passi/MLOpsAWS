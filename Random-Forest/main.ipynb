{
 "cells": [
  {
   "cell_type": "code",
   "execution_count": 1,
   "id": "1fa6aecc-213f-457f-885e-4b4b0a4c1737",
   "metadata": {},
   "outputs": [
    {
     "name": "stdout",
     "output_type": "stream",
     "text": [
      "sagemaker.config INFO - Not applying SDK defaults from location: /etc/xdg/sagemaker/config.yaml\n",
      "sagemaker.config INFO - Not applying SDK defaults from location: /home/sagemaker-user/.config/sagemaker/config.yaml\n"
     ]
    }
   ],
   "source": [
    "import boto3\n",
    "import json\n",
    "import os\n",
    "import joblib\n",
    "import pickle\n",
    "import tarfile\n",
    "import sagemaker\n",
    "from sagemaker.estimator import Estimator\n",
    "import time\n",
    "from time import gmtime, strftime\n",
    "import subprocess"
   ]
  },
  {
   "cell_type": "code",
   "execution_count": 2,
   "id": "25e56c71-db0b-4e75-90b2-39571525517e",
   "metadata": {},
   "outputs": [
    {
     "name": "stdout",
     "output_type": "stream",
     "text": [
      "us-east-1\n"
     ]
    }
   ],
   "source": [
    "#Setup\n",
    "client = boto3.client(service_name=\"sagemaker\")\n",
    "runtime = boto3.client(service_name=\"sagemaker-runtime\")\n",
    "boto_session = boto3.session.Session()\n",
    "s3 = boto_session.resource('s3')\n",
    "region = boto_session.region_name\n",
    "print(region)\n",
    "sagemaker_session = sagemaker.Session()\n",
    "role = sagemaker.get_execution_role()"
   ]
  },
  {
   "cell_type": "code",
   "execution_count": 3,
   "id": "e70b0823-88dd-4a4c-85cf-48eab380912b",
   "metadata": {},
   "outputs": [],
   "source": [
    "#Build tar file with model data + inference code\n",
    "bashCommand = \"tar -cvpzf model.tar.gz random_forest_model.pkl inference.py\"\n",
    "process = subprocess.Popen(bashCommand.split(), stdout=subprocess.PIPE)\n",
    "output, error = process.communicate()"
   ]
  },
  {
   "cell_type": "code",
   "execution_count": 4,
   "id": "35caed04-8c02-4b65-bedf-48d7a9b54a0c",
   "metadata": {},
   "outputs": [
    {
     "name": "stdout",
     "output_type": "stream",
     "text": [
      "sagemaker-us-east-1-767397996001\n",
      "s3://sagemaker-us-east-1-767397996001/evaluation_metrics.json\n"
     ]
    }
   ],
   "source": [
    "# retrieve sklearn image\n",
    "image_uri = sagemaker.image_uris.retrieve(\n",
    "    framework=\"sklearn\",\n",
    "    region=region,\n",
    "    version=\"1.2-1\",\n",
    "    py_version=\"py3\",\n",
    "    instance_type=\"ml.t3.medium\",\n",
    ")\n",
    "\n",
    "#Bucket for model artifacts\n",
    "default_bucket = sagemaker_session.default_bucket()\n",
    "print(default_bucket)\n",
    "\n",
    "#Upload tar.gz to bucket\n",
    "model_artifacts = f\"s3://{default_bucket}/model.tar.gz\"\n",
    "evaluation_metrics_uri = f\"s3://{default_bucket}/evaluation_metrics.json\"\n",
    "response = s3.meta.client.upload_file('model.tar.gz', default_bucket, 'model.tar.gz')\n",
    "response1 = s3.meta.client.upload_file('evaluation_metrics.json', default_bucket, 'evaluation_metrics.json')\n",
    "print(evaluation_metrics_uri)"
   ]
  },
  {
   "cell_type": "code",
   "execution_count": 5,
   "id": "d211ab9c-214e-4082-9fba-7d66736f1c36",
   "metadata": {},
   "outputs": [
    {
     "name": "stdout",
     "output_type": "stream",
     "text": [
      "Model name: sklearn-test2025-01-29-06-32-28\n",
      "Model Arn: arn:aws:sagemaker:us-east-1:767397996001:model/sklearn-test2025-01-29-06-32-28\n"
     ]
    }
   ],
   "source": [
    "#Step 1: Model Creation\n",
    "model_name = \"sklearn-test\" + strftime(\"%Y-%m-%d-%H-%M-%S\", gmtime())\n",
    "print(\"Model name: \" + model_name)\n",
    "create_model_response = client.create_model(\n",
    "    ModelName=model_name,\n",
    "    Containers=[\n",
    "        {\n",
    "            \"Image\": image_uri,\n",
    "            \"Mode\": \"SingleModel\",\n",
    "            \"ModelDataUrl\": model_artifacts,\n",
    "            \"Environment\": {'SAGEMAKER_SUBMIT_DIRECTORY': model_artifacts,\n",
    "                           'SAGEMAKER_PROGRAM': 'inference.py'} \n",
    "        }\n",
    "    ],\n",
    "    ExecutionRoleArn=role,\n",
    ")\n",
    "print(\"Model Arn: \" + create_model_response[\"ModelArn\"])"
   ]
  },
  {
   "cell_type": "code",
   "execution_count": 6,
   "id": "aaeca87e-cade-4570-9b25-c8c5185862c1",
   "metadata": {},
   "outputs": [
    {
     "name": "stdout",
     "output_type": "stream",
     "text": [
      "{\n",
      "    \"binary_classification_metrics\": {\n",
      "        \"accuracy\": {\n",
      "            \"value\": 0.71,\n",
      "            \"standard_deviation\": 0.0\n",
      "        },\n",
      "        \"precision\": {\n",
      "            \"value\": 0.6969291851851852,\n",
      "            \"standard_deviation\": 0.0\n",
      "        },\n",
      "        \"recall\": {\n",
      "            \"value\": 0.71,\n",
      "            \"standard_deviation\": 0.0\n",
      "        }\n",
      "    }\n",
      "}\n"
     ]
    }
   ],
   "source": [
    "\n",
    "s3_client = boto3.client('s3')\n",
    "\n",
    "# Specify the S3 bucket name and file path (evaluation metrics JSON file)\n",
    "bucket_name = default_bucket  # Use the default bucket or replace with your bucket name\n",
    "file_key = 'evaluation_metrics.json'  # The path to the evaluation metrics file\n",
    "\n",
    "# Fetch the file from S3\n",
    "response = s3_client.get_object(Bucket=bucket_name, Key=file_key)\n",
    "\n",
    "# Read the JSON content from the file\n",
    "json_data = response['Body'].read().decode('utf-8')  # Decode the content to text\n",
    "data = json.loads(json_data)  # Load the JSON data\n",
    "\n",
    "# Display the data in a pretty format\n",
    "print(json.dumps(data, indent=4)) "
   ]
  },
  {
   "cell_type": "code",
   "execution_count": 7,
   "id": "04531145-40e9-4489-9321-c56926543531",
   "metadata": {},
   "outputs": [
    {
     "name": "stdout",
     "output_type": "stream",
     "text": [
      "Model Package Group Arn: arn:aws:sagemaker:us-east-1:767397996001:model-package-group/MLOps-AWS\n",
      "Model Package Arn: arn:aws:sagemaker:us-east-1:767397996001:model-package/MLOps-AWS/1\n"
     ]
    }
   ],
   "source": [
    "# Step 3: Register the model in Model Registry\n",
    "model_package_group_name = \"MLOps-AWS\"  # Specify the model package group name\n",
    "existing_model_package_groups = client.list_model_package_groups()[\"ModelPackageGroupSummaryList\"]\n",
    "group_exists = any(group[\"ModelPackageGroupName\"] == model_package_group_name for group in existing_model_package_groups)\n",
    "\n",
    "\n",
    "# Create a new Model Package Group if it doesn't exist\n",
    "if not group_exists:\n",
    "    try:\n",
    "        create_model_package_group_response = client.create_model_package_group(\n",
    "            ModelPackageGroupName=model_package_group_name,\n",
    "            ModelPackageGroupDescription=\"Model Registry for the Zenon ML Ops Initiative.\" \n",
    "        )\n",
    "        print(\"Model Package Group Arn: \" + create_model_package_group_response[\"ModelPackageGroupArn\"])\n",
    "    except client.exceptions.ResourceInUse:\n",
    "        print(f\"Model Package Group '{model_package_group_name}' already exists.\")\n",
    "else:\n",
    "    print(f\"Model Package Group '{model_package_group_name}' already exists.\")\n",
    "\n",
    "\n",
    "# Create Model Package (Register the model)\n",
    "create_model_package_response = client.create_model_package(\n",
    "    ModelPackageGroupName=model_package_group_name,\n",
    "    ModelPackageDescription=\"Description of your model\",\n",
    "    ModelApprovalStatus=\"Approved\",  # Set this to \"Approved\" if you want automatic approval\n",
    "    InferenceSpecification={\n",
    "        \"Containers\": [\n",
    "            {\n",
    "                \"Image\": image_uri,\n",
    "                \"ModelDataUrl\": model_artifacts,\n",
    "                \"Environment\": {'SAGEMAKER_SUBMIT_DIRECTORY': model_artifacts,\n",
    "                                'SAGEMAKER_PROGRAM': 'inference.py'}\n",
    "            }\n",
    "        ],\n",
    "        \"SupportedContentTypes\": [\"application/json\"],\n",
    "        \"SupportedResponseMIMETypes\": [\"application/json\"]\n",
    "    },\n",
    "    MetadataProperties={\n",
    "        \"GeneratedBy\": \"manual-training\",\n",
    "        \"ProjectId\": \"ml-ops-project-001\" \n",
    "    },\n",
    "    ModelMetrics={\n",
    "        \"ModelQuality\": {\n",
    "            \"Statistics\": {\n",
    "                \"ContentType\": \"application/json\",\n",
    "                \"S3Uri\": evaluation_metrics_uri \n",
    "            }\n",
    "        }\n",
    "    },\n",
    "    CertifyForMarketplace=False\n",
    ")\n",
    "print(\"Model Package Arn: \" + create_model_package_response[\"ModelPackageArn\"])\n"
   ]
  },
  {
   "cell_type": "code",
   "execution_count": 8,
   "id": "0ab531c1-fec9-4885-a866-d8ebd12520ea",
   "metadata": {},
   "outputs": [
    {
     "name": "stdout",
     "output_type": "stream",
     "text": [
      "Endpoint Configuration Arn: arn:aws:sagemaker:us-east-1:767397996001:endpoint-config/sklearn-epc2025-01-29-06-32-40\n"
     ]
    }
   ],
   "source": [
    "#Step 2: EPC Creation\n",
    "sklearn_epc_name = \"sklearn-epc\" + strftime(\"%Y-%m-%d-%H-%M-%S\", gmtime())\n",
    "endpoint_config_response = client.create_endpoint_config(\n",
    "    EndpointConfigName=sklearn_epc_name,\n",
    "    ProductionVariants=[\n",
    "        {\n",
    "            \"VariantName\": \"sklearnvariant\",\n",
    "            \"ModelName\": model_name,\n",
    "            \"InstanceType\": \"ml.t2.medium\",\n",
    "            \"InitialInstanceCount\": 1\n",
    "        },\n",
    "    ],\n",
    ")\n",
    "print(\"Endpoint Configuration Arn: \" + endpoint_config_response[\"EndpointConfigArn\"])"
   ]
  },
  {
   "cell_type": "code",
   "execution_count": 9,
   "id": "3cf94313-f33f-488a-9fcd-bbeef070d3c0",
   "metadata": {},
   "outputs": [
    {
     "name": "stdout",
     "output_type": "stream",
     "text": [
      "Endpoint Arn: arn:aws:sagemaker:us-east-1:767397996001:endpoint/sklearn-local-ep2025-01-29-06-32-42\n",
      "Creating\n",
      "Creating\n",
      "Creating\n",
      "Creating\n",
      "Creating\n",
      "Creating\n",
      "Creating\n",
      "Creating\n",
      "Creating\n",
      "Creating\n",
      "Creating\n",
      "Creating\n",
      "Creating\n",
      "Creating\n",
      "Creating\n",
      "Creating\n",
      "Creating\n",
      "Creating\n",
      "Creating\n",
      "Creating\n",
      "Creating\n",
      "Creating\n",
      "Creating\n",
      "Creating\n",
      "Creating\n",
      "InService\n",
      "{'EndpointName': 'sklearn-local-ep2025-01-29-06-32-42', 'EndpointArn': 'arn:aws:sagemaker:us-east-1:767397996001:endpoint/sklearn-local-ep2025-01-29-06-32-42', 'EndpointConfigName': 'sklearn-epc2025-01-29-06-32-40', 'ProductionVariants': [{'VariantName': 'sklearnvariant', 'DeployedImages': [{'SpecifiedImage': '683313688378.dkr.ecr.us-east-1.amazonaws.com/sagemaker-scikit-learn:1.2-1-cpu-py3', 'ResolvedImage': '683313688378.dkr.ecr.us-east-1.amazonaws.com/sagemaker-scikit-learn@sha256:1743f4967231a3e2a4cbd2dcd28bd5cac8647fad140d11f483286d592706939f', 'ResolutionTime': datetime.datetime(2025, 1, 29, 6, 32, 44, 207000, tzinfo=tzlocal())}], 'CurrentWeight': 1.0, 'DesiredWeight': 1.0, 'CurrentInstanceCount': 1, 'DesiredInstanceCount': 1}], 'EndpointStatus': 'InService', 'CreationTime': datetime.datetime(2025, 1, 29, 6, 32, 43, 307000, tzinfo=tzlocal()), 'LastModifiedTime': datetime.datetime(2025, 1, 29, 6, 38, 46, 473000, tzinfo=tzlocal()), 'ResponseMetadata': {'RequestId': '900d0d5d-c563-447f-8f52-6e636d0cb11e', 'HTTPStatusCode': 200, 'HTTPHeaders': {'x-amzn-requestid': '900d0d5d-c563-447f-8f52-6e636d0cb11e', 'content-type': 'application/x-amz-json-1.1', 'content-length': '767', 'date': 'Wed, 29 Jan 2025 06:39:00 GMT'}, 'RetryAttempts': 0}}\n"
     ]
    }
   ],
   "source": [
    "#Step 3: EP Creation\n",
    "endpoint_name = \"sklearn-local-ep\" + strftime(\"%Y-%m-%d-%H-%M-%S\", gmtime())\n",
    "create_endpoint_response = client.create_endpoint(\n",
    "    EndpointName=endpoint_name,\n",
    "    EndpointConfigName=sklearn_epc_name,\n",
    ")\n",
    "print(\"Endpoint Arn: \" + create_endpoint_response[\"EndpointArn\"])\n",
    "\n",
    "\n",
    "#Monitor creation\n",
    "describe_endpoint_response = client.describe_endpoint(EndpointName=endpoint_name)\n",
    "while describe_endpoint_response[\"EndpointStatus\"] == \"Creating\":\n",
    "    describe_endpoint_response = client.describe_endpoint(EndpointName=endpoint_name)\n",
    "    print(describe_endpoint_response[\"EndpointStatus\"])\n",
    "    time.sleep(15)\n",
    "print(describe_endpoint_response)"
   ]
  },
  {
   "cell_type": "code",
   "execution_count": null,
   "id": "a8267d8b-6661-4822-8d7c-e80210186bb7",
   "metadata": {},
   "outputs": [],
   "source": []
  }
 ],
 "metadata": {
  "kernelspec": {
   "display_name": "Python 3 (ipykernel)",
   "language": "python",
   "name": "python3"
  },
  "language_info": {
   "codemirror_mode": {
    "name": "ipython",
    "version": 3
   },
   "file_extension": ".py",
   "mimetype": "text/x-python",
   "name": "python",
   "nbconvert_exporter": "python",
   "pygments_lexer": "ipython3",
   "version": "3.11.11"
  }
 },
 "nbformat": 4,
 "nbformat_minor": 5
}
