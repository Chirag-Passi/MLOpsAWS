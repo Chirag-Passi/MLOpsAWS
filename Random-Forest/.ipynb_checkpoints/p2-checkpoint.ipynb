{
 "cells": [
  {
   "cell_type": "code",
   "execution_count": 1,
   "id": "34ece132-e0aa-4618-8ba4-cc39ae6649a7",
   "metadata": {},
   "outputs": [
    {
     "name": "stdout",
     "output_type": "stream",
     "text": [
      "sagemaker.config INFO - Not applying SDK defaults from location: /etc/xdg/sagemaker/config.yaml\n",
      "sagemaker.config INFO - Not applying SDK defaults from location: /home/sagemaker-user/.config/sagemaker/config.yaml\n"
     ]
    }
   ],
   "source": [
    "import sagemaker\n",
    "import boto3\n",
    "from sagemaker.workflow.parameters import ParameterString, ParameterInteger\n",
    "from sagemaker.processing import ScriptProcessor, ProcessingInput, ProcessingOutput\n",
    "from sagemaker.workflow.steps import ProcessingStep, TrainingStep, TuningStep\n",
    "\n"
   ]
  },
  {
   "cell_type": "code",
   "execution_count": 2,
   "id": "46b524b1-44ac-46a6-a2fb-aa7bbacb439f",
   "metadata": {},
   "outputs": [],
   "source": [
    "# Parameters for the pipeline\n",
    "pipeline_name = \"MLOpsPipeline\"\n",
    "\n",
    "instance_type = ParameterString(name=\"InstanceType\", default_value=\"ml.t3.medium\")\n",
    "model_name = ParameterString(name=\"ModelName\", default_value=\"model\")\n",
    "instance_count = ParameterInteger(name=\"InstanceCount\", default_value=1)\n",
    "role = sagemaker.get_execution_role()\n",
    "\n",
    "s3_input_data = ParameterString(\n",
    "    name=\"InputData\",\n",
    "    default_value=\"s3://ml-ops-zenon/Input/diabetes-dev-1.csv\"\n",
    ")"
   ]
  },
  {
   "cell_type": "code",
   "execution_count": 4,
   "id": "5ed47a70-268e-405d-817b-d14812eb9b2a",
   "metadata": {},
   "outputs": [],
   "source": [
    "# retrieve sklearn image\n",
    "session = boto3.Session()  # Initialize boto3 session\n",
    "region = session.region_name \n",
    "\n",
    "image_uri = sagemaker.image_uris.retrieve(\n",
    "    framework=\"sklearn\",\n",
    "    region=region,\n",
    "    version=\"1.2-1\",\n",
    "    py_version=\"py3\",\n",
    "    instance_type=\"ml.t3.medium\",\n",
    ")"
   ]
  },
  {
   "cell_type": "code",
   "execution_count": 5,
   "id": "eede5441-b0a4-4602-8769-7d99bc7e10bf",
   "metadata": {},
   "outputs": [],
   "source": [
    "script_processor = ScriptProcessor(\n",
    "    image_uri=image_uri,\n",
    "    role=role,\n",
    "    instance_count=instance_count,\n",
    "    instance_type=instance_type\n",
    ")"
   ]
  },
  {
   "cell_type": "code",
   "execution_count": 7,
   "id": "54ffb52f-52f0-4516-bdb6-c298ccb76e84",
   "metadata": {},
   "outputs": [],
   "source": [
    "import os\n",
    "current_dir = os.getcwd()\n",
    "\n",
    "processing_step = ProcessingStep(\n",
    "    name=\"DataProcessing\",\n",
    "    processor=script_processor,\n",
    "    inputs=[\n",
    "        ProcessingInput(source=s3_input_data, destination='/opt/ml/processing/input')\n",
    "    ],\n",
    "    outputs=[\n",
    "        ProcessingOutput(output_name=\"train_data\", source='/opt/ml/processing/train'),\n",
    "        ProcessingOutput(output_name=\"test_data\", source='/opt/ml/processing/test')\n",
    "    ],\n",
    "    code=\"preprocessing.py\"\n",
    ")"
   ]
  },
  {
   "cell_type": "code",
   "execution_count": 6,
   "id": "15491cbb-6049-4a58-bf25-4dc6757a4d3a",
   "metadata": {},
   "outputs": [
    {
     "name": "stdout",
     "output_type": "stream",
     "text": [
      "Current directory: /home/sagemaker-user/Random-Forest\n",
      "New directory: /home/sagemaker-user/Random-Forest/Pipeline\n",
      "Files in directory: ['p2.ipynb', '.ipynb_checkpoints', 'preprocessing.py']\n"
     ]
    }
   ],
   "source": [
    "# import os\n",
    "# print(f\"Current directory: {os.getcwd()}\")\n",
    "\n",
    "# # Change to the correct directory\n",
    "# os.chdir('/home/sagemaker-user/Random-Forest/Pipeline')  # Replace with your actual folder name\n",
    "\n",
    "# # Verify the new directory\n",
    "# print(f\"New directory: {os.getcwd()}\")\n",
    "# print(f\"Files in directory: {os.listdir()}\")"
   ]
  },
  {
   "cell_type": "code",
   "execution_count": null,
   "id": "e903fabc-fc3d-4ba2-bc00-e000845788dc",
   "metadata": {},
   "outputs": [],
   "source": [
    "label_engineering_step = ProcessingStep(\n",
    "    name=\"LabelEngineering\",\n",
    "    processor=script_processor,\n",
    "    inputs=[\n",
    "        ProcessingInput(source=s3_input_data, destination='/opt/ml/processing/input')\n",
    "    ],\n",
    "    outputs=[\n",
    "        ProcessingOutput(output_name=\"train_labels\", source='/opt/ml/processing/train_labels'),\n",
    "        ProcessingOutput(output_name=\"test_labels\", source='/opt/ml/processing/test_labels')\n",
    "    ],\n",
    "    code=\"label_engineering.py\"\n",
    ")"
   ]
  },
  {
   "cell_type": "code",
   "execution_count": null,
   "id": "12e3a438-772a-44f4-b917-eb53f77a5ed6",
   "metadata": {},
   "outputs": [],
   "source": [
    "from sagemaker.estimator import Estimator\n",
    "from sagemaker.inputs import TrainingInput\n",
    "from sagemaker.workflow.steps import TrainingStep\n",
    "\n",
    "xgboost_estimator = Estimator(\n",
    "    image_uri=sagemaker.image_uris.retrieve('xgboost', region=region, version='1.2-1'),\n",
    "    role=role,\n",
    "    instance_count=1,\n",
    "    instance_type='ml.t3.medium',\n",
    "    output_path=\"s3://ml-ops-zenon/model/\"\n",
    ")\n",
    "\n",
    "xgboost_estimator.set_hyperparameters(\n",
    "    max_depth=5,\n",
    "    eta=0.2,\n",
    "    gamma=4,\n",
    "    min_child_weight=6,\n",
    "    subsample=0.7,\n",
    "    objective='binary:logistic',\n",
    "    num_round=100\n",
    ")\n",
    "\n",
    "training_step = TrainingStep(\n",
    "    name=\"ModelTraining\",\n",
    "    estimator=xgboost_estimator,\n",
    "    inputs={\n",
    "        'train': TrainingInput(s3_data=processing_step.properties.Outputs['train_data']),\n",
    "        'validation': TrainingInput(s3_data=processing_step.properties.Outputs['test_data'])\n",
    "    }\n",
    ")"
   ]
  },
  {
   "cell_type": "code",
   "execution_count": null,
   "id": "936c3a7d-8a34-40f6-9a65-ba844a089769",
   "metadata": {},
   "outputs": [],
   "source": [
    "from sagemaker.tuner import HyperparameterTuner, ContinuousParameter\n",
    "\n",
    "hyperparameter_ranges = {\n",
    "    'eta': ContinuousParameter(0.1, 0.5),\n",
    "    'max_depth': ContinuousParameter(3, 7)\n",
    "}\n",
    "\n",
    "tuner = HyperparameterTuner(\n",
    "    estimator=xgboost_estimator,\n",
    "    objective_metric_name='validation:auc',\n",
    "    hyperparameter_ranges=hyperparameter_ranges,\n",
    "    max_jobs=10,\n",
    "    max_parallel_jobs=2\n",
    ")\n",
    "\n",
    "tuning_step = TuningStep(\n",
    "    name=\"HyperparameterTuning\",\n",
    "    tuner=tuner,\n",
    "    inputs={\n",
    "        'train': TrainingInput(s3_data=processing_step.properties.Outputs['train_data']),\n",
    "        'validation': TrainingInput(s3_data=processing_step.properties.Outputs['test_data'])\n",
    "    }\n",
    ")"
   ]
  },
  {
   "cell_type": "code",
   "execution_count": null,
   "id": "970431a6-6e58-40e1-949f-2d068a1b57d0",
   "metadata": {},
   "outputs": [],
   "source": [
    "evaluation_step = ProcessingStep(\n",
    "    name=\"ModelEvaluation\",\n",
    "    processor=script_processor,\n",
    "    inputs=[\n",
    "        ProcessingInput(source=training_step.properties.ModelArtifacts.S3ModelArtifacts, destination='/opt/ml/processing/model')\n",
    "    ],\n",
    "    outputs=[\n",
    "        ProcessingOutput(output_name=\"evaluation\", source=\"/opt/ml/processing/evaluation\")\n",
    "    ],\n",
    "    code=\"evaluate.py\"\n",
    ")"
   ]
  },
  {
   "cell_type": "code",
   "execution_count": null,
   "id": "0c97de85-d985-475c-91ed-fa69bf36a491",
   "metadata": {},
   "outputs": [],
   "source": [
    "from sagemaker.model import Model\n",
    "from sagemaker.workflow.model_step import ModelStep\n",
    "\n",
    "model = Model(\n",
    "    image_uri=sagemaker.image_uris.retrieve('xgboost', region='us-west-2', version='1.2-1'),\n",
    "    model_data=training_step.properties.ModelArtifacts.S3ModelArtifacts,\n",
    "    role=role\n",
    ")\n",
    "\n",
    "model_registration_step = ModelStep(\n",
    "    name=\"ModelRegistration\",\n",
    "    model=model,\n",
    "    content_types=[\"text/csv\"],\n",
    "    response_types=[\"text/csv\"],\n",
    "    approval_status=\"Approved\"\n",
    ")"
   ]
  },
  {
   "cell_type": "code",
   "execution_count": null,
   "id": "820cf1d7-412a-475b-8863-1749fd04d75e",
   "metadata": {},
   "outputs": [],
   "source": [
    "from sagemaker.workflow.steps import TransformStep\n",
    "from sagemaker.transformer import Transformer\n",
    "\n",
    "transformer = Transformer(\n",
    "    model_name=model_registration_step.properties.ModelName,\n",
    "    instance_count=1,\n",
    "    instance_type='ml.t3.medium',\n",
    "    output_path='s3://ml-ops-zenon/churn-data/output'\n",
    ")\n",
    "\n",
    "transform_step = TransformStep(\n",
    "    name=\"BatchInference\",\n",
    "    transformer=transformer,\n",
    "    inputs=TrainingInput(s3_data=processing_step.properties.Outputs['test_data'])\n",
    ")"
   ]
  },
  {
   "cell_type": "code",
   "execution_count": null,
   "id": "0004c362-d7bd-4e9a-b80d-0885dbd992c7",
   "metadata": {},
   "outputs": [],
   "source": [
    "from sagemaker.model_monitor import DefaultModelMonitor\n",
    "\n",
    "monitor = DefaultModelMonitor(\n",
    "    role=role,\n",
    "    instance_count=1,\n",
    "    instance_type='ml.t3.medium',\n",
    "    volume_size_in_gb=20,\n",
    "    max_runtime_in_seconds=1800\n",
    ")\n",
    "\n",
    "monitor.create_monitoring_schedule(\n",
    "    endpoint_name='my-endpoint',\n",
    "    output_s3_uri='s3://ml-ops-zenon/monitoring',\n",
    "    schedule_cron_expression='cron(0 * ? * * *)'\n",
    ")"
   ]
  },
  {
   "cell_type": "code",
   "execution_count": null,
   "id": "4fc02681-9972-42f0-b603-c802908987fd",
   "metadata": {},
   "outputs": [],
   "source": [
    "from sagemaker.workflow.pipeline import Pipeline\n",
    "\n",
    "pipeline = Pipeline(\n",
    "    name=\"CustomerChurnPipeline\",\n",
    "    steps=[\n",
    "        processing_step,\n",
    "        label_engineering_step,\n",
    "        training_step,\n",
    "        evaluation_step,\n",
    "        model_registration_step,\n",
    "        transform_step\n",
    "    ]\n",
    ")"
   ]
  },
  {
   "cell_type": "code",
   "execution_count": null,
   "id": "fff708a9-a1df-468e-b531-450807012779",
   "metadata": {},
   "outputs": [],
   "source": [
    "execution = pipeline.start()\n",
    "execution.wait()"
   ]
  },
  {
   "cell_type": "code",
   "execution_count": null,
   "id": "e15b04d9-1c91-45f2-af8b-9f908e00979c",
   "metadata": {},
   "outputs": [],
   "source": [
    "pipeline.list_executions()"
   ]
  }
 ],
 "metadata": {
  "kernelspec": {
   "display_name": "Python 3 (ipykernel)",
   "language": "python",
   "name": "python3"
  },
  "language_info": {
   "codemirror_mode": {
    "name": "ipython",
    "version": 3
   },
   "file_extension": ".py",
   "mimetype": "text/x-python",
   "name": "python",
   "nbconvert_exporter": "python",
   "pygments_lexer": "ipython3",
   "version": "3.11.11"
  }
 },
 "nbformat": 4,
 "nbformat_minor": 5
}
