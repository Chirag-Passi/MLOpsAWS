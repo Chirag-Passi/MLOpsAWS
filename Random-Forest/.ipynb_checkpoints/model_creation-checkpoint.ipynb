{
 "cells": [
  {
   "cell_type": "code",
   "execution_count": 1,
   "id": "e4b86837-6bc6-4b25-89ad-7392d1a45d58",
   "metadata": {},
   "outputs": [],
   "source": [
    "import pandas as pd\n",
    "import numpy as np\n",
    "from sklearn.linear_model import LinearRegression\n",
    "from sklearn.model_selection import train_test_split, cross_val_score\n",
    "from sklearn.metrics import mean_squared_error\n",
    "from sklearn import datasets\n",
    "from sklearn.model_selection import train_test_split\n",
    "from sklearn import metrics\n",
    "from sklearn.model_selection import train_test_split, GridSearchCV\n",
    "from sklearn.preprocessing import StandardScaler\n",
    "from sklearn.ensemble import RandomForestClassifier\n",
    "from sklearn.metrics import classification_report\n",
    "from sklearn.pipeline import Pipeline\n",
    "import joblib\n",
    "import boto3\n",
    "from io import StringIO\n"
   ]
  },
  {
   "cell_type": "code",
   "execution_count": 13,
   "id": "e35a2a71-5b13-431f-8efe-4f9786c7fc7d",
   "metadata": {},
   "outputs": [
    {
     "name": "stdout",
     "output_type": "stream",
     "text": [
      "   Diabetic  Pregnancies  PlasmaGlucose  DiastolicBloodPressure  \\\n",
      "0         0            1             78                      41   \n",
      "1         0            0            116                      92   \n",
      "2         1            8            171                      42   \n",
      "3         1            3            108                      63   \n",
      "4         1            8            153                      99   \n",
      "\n",
      "   TricepsThickness  SerumInsulin        BMI  DiabetesPedigree  Age  PatientID  \n",
      "0                33           311  50.796392          0.420804   24    1142956  \n",
      "1                16           184  18.603630          0.131156   22    1823377  \n",
      "2                29           160  35.482247          0.082671   22    1916381  \n",
      "3                45           297  49.375169          0.100979   46    1247480  \n",
      "4                15            41  35.062139          0.116191   22    1516947  \n"
     ]
    }
   ],
   "source": [
    "#Load data\n",
    "s3_client = boto3.client('s3')\n",
    "bucket_name = 'ml-ops-zenon'\n",
    "file_key = 'Input/diabetes-dev-1.csv'\n",
    "\n",
    "# Fetch the file from S3\n",
    "response = s3_client.get_object(Bucket=bucket_name, Key=file_key)\n",
    "\n",
    "# Read the file content into a Pandas DataFrame\n",
    "csv_data = response['Body'].read().decode('utf-8')  # Decode the file content\n",
    "data = pd.read_csv(StringIO(csv_data))  # Read the CSV data from the string\n",
    "\n",
    "# Check the first few rows of the dataset\n",
    "print(data.head())\n",
    "# print(sklearn.__version__)"
   ]
  },
  {
   "cell_type": "code",
   "execution_count": 14,
   "id": "855f0cde-85c3-402a-96fd-45bbea6619b5",
   "metadata": {},
   "outputs": [
    {
     "name": "stdout",
     "output_type": "stream",
     "text": [
      "      Pregnancies  PlasmaGlucose  DiastolicBloodPressure  TricepsThickness  \\\n",
      "0               1             78                      41                33   \n",
      "1               0            116                      92                16   \n",
      "2               8            171                      42                29   \n",
      "3               3            108                      63                45   \n",
      "4               8            153                      99                15   \n",
      "...           ...            ...                     ...               ...   \n",
      "4995           10             65                      60                46   \n",
      "4996            2             73                      66                27   \n",
      "4997            0             93                      89                43   \n",
      "4998            0            132                      98                18   \n",
      "4999            3            114                      65                47   \n",
      "\n",
      "      SerumInsulin        BMI  DiabetesPedigree  Age  \n",
      "0              311  50.796392          0.420804   24  \n",
      "1              184  18.603630          0.131156   22  \n",
      "2              160  35.482247          0.082671   22  \n",
      "3              297  49.375169          0.100979   46  \n",
      "4               41  35.062139          0.116191   22  \n",
      "...            ...        ...               ...  ...  \n",
      "4995           177  33.512468          0.148327   41  \n",
      "4996           168  30.132636          0.862252   38  \n",
      "4997            57  18.690683          0.427049   24  \n",
      "4998           161  19.791645          0.302257   23  \n",
      "4999           512  36.215437          0.147363   34  \n",
      "\n",
      "[5000 rows x 8 columns]\n"
     ]
    }
   ],
   "source": [
    "#Split Model\n",
    "X = data.drop(columns=[\"Diabetic\", \"PatientID\"])\n",
    "y = data[\"Diabetic\"]\n",
    "print(X)\n",
    "\n",
    "# 2. Split the data into training and testing sets\n",
    "X_train, X_test, y_train, y_test = train_test_split(X, y, test_size=0.3, random_state=42)"
   ]
  },
  {
   "cell_type": "code",
   "execution_count": 15,
   "id": "ce0d1de3-a969-430d-8126-13cf1c0dfd5d",
   "metadata": {
    "scrolled": true
   },
   "outputs": [
    {
     "name": "stdout",
     "output_type": "stream",
     "text": [
      "              precision    recall  f1-score   support\n",
      "\n",
      "           0       0.94      0.95      0.95       988\n",
      "           1       0.91      0.88      0.89       512\n",
      "\n",
      "    accuracy                           0.93      1500\n",
      "   macro avg       0.92      0.92      0.92      1500\n",
      "weighted avg       0.93      0.93      0.93      1500\n",
      "\n"
     ]
    },
    {
     "data": {
      "text/plain": [
       "['random_forest_model.pkl']"
      ]
     },
     "execution_count": 15,
     "metadata": {},
     "output_type": "execute_result"
    }
   ],
   "source": [
    "\n",
    "# 3. Define a pipeline for preprocessing and model training\n",
    "pipeline = Pipeline([\n",
    "    ('scaler', StandardScaler()),  # Step 1: Standardize the data\n",
    "    ('classifier', RandomForestClassifier())  # Step 2: Train the model using RandomForest\n",
    "])\n",
    "\n",
    "# 4. Define a grid of hyperparameters for tuning\n",
    "param_grid = {\n",
    "    'classifier__n_estimators': [100, 200],  # Number of trees\n",
    "    'classifier__max_depth': [10, 20, None],  # Maximum depth of each tree\n",
    "    'classifier__min_samples_split': [2, 5],  # Minimum samples required to split an internal node\n",
    "}\n",
    "\n",
    "# 5. Perform GridSearchCV to tune hyperparameters\n",
    "grid_search = GridSearchCV(pipeline, param_grid, cv=5, n_jobs=-1)\n",
    "\n",
    "# 6. Train the model using the training data\n",
    "grid_search.fit(X_train, y_train)\n",
    "\n",
    "# 7. Get the best model after hyperparameter tuning\n",
    "best_model = grid_search.best_estimator_\n",
    "\n",
    "# 8. Make predictions on the test set\n",
    "y_pred = best_model.predict(X_test)\n",
    "\n",
    "# 9. Evaluate the model performance\n",
    "print(classification_report(y_test, y_pred))\n",
    "\n",
    "# 10. Save the trained model to a file for future use\n",
    "joblib.dump(best_model, 'random_forest_model.pkl')\n"
   ]
  },
  {
   "cell_type": "code",
   "execution_count": null,
   "id": "1dd0abf2-c58f-47b7-8e60-16b34d1157eb",
   "metadata": {},
   "outputs": [],
   "source": [
    "# import pandas as pd\n",
    "# import numpy as np\n",
    "# from sklearn.linear_model import LinearRegression\n",
    "# from sklearn.model_selection import train_test_split, cross_val_score\n",
    "# from sklearn.metrics import mean_squared_error\n",
    "# from sklearn import datasets\n",
    "# from sklearn.model_selection import train_test_split\n",
    "# from sklearn import metrics\n",
    "# import joblib\n",
    "\n",
    "# #Load data\n",
    "# boston = datasets.load_boston()\n",
    "# df = pd.DataFrame(boston.data, columns = boston.feature_names)\n",
    "# df['MEDV'] = boston.target \n",
    "\n",
    "# #Split Model\n",
    "# X = df.drop(['MEDV'], axis = 1) \n",
    "# y = df['MEDV']\n",
    "# X_train, X_test, y_train, y_test = train_test_split(X, y, test_size = .2, random_state = 42)\n",
    "\n",
    "# #Model Creation\n",
    "# lm = LinearRegression()\n",
    "# lm.fit(X_train,y_train)\n",
    "\n",
    "\n",
    "# with open('model.joblib', 'wb') as f:\n",
    "#     joblib.dump(lm,f)\n",
    "\n",
    "\n",
    "# with open('model.joblib', 'rb') as f:\n",
    "#     predictor = joblib.load(f)\n",
    "\n",
    "# print(\"Testing following input: \")\n",
    "# print(X_test[0:1])\n",
    "# sampInput = [[0.09178, 0.0, 4.05, 0.0, 0.51, 6.416, 84.1, 2.6463, 5.0, 296.0, 16.6, 395.5, 9.04]]\n",
    "# print(type(sampInput))\n",
    "# print(predictor.predict(sampInput))"
   ]
  }
 ],
 "metadata": {
  "kernelspec": {
   "display_name": "Python 3 (ipykernel)",
   "language": "python",
   "name": "python3"
  },
  "language_info": {
   "codemirror_mode": {
    "name": "ipython",
    "version": 3
   },
   "file_extension": ".py",
   "mimetype": "text/x-python",
   "name": "python",
   "nbconvert_exporter": "python",
   "pygments_lexer": "ipython3",
   "version": "3.11.11"
  }
 },
 "nbformat": 4,
 "nbformat_minor": 5
}
